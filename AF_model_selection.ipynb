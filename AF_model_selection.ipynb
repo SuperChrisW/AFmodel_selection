{
 "cells": [
  {
   "cell_type": "markdown",
   "metadata": {},
   "source": [
    "### load AF model evaluation metrics ###"
   ]
  },
  {
   "cell_type": "code",
   "execution_count": 1,
   "metadata": {},
   "outputs": [],
   "source": [
    "import os \n",
    "import json\n",
    "import pandas as pd\n",
    "import numpy as np\n",
    "import matplotlib.pyplot as plt\n",
    "import seaborn as sns"
   ]
  },
  {
   "cell_type": "code",
   "execution_count": 7,
   "metadata": {},
   "outputs": [],
   "source": [
    "def parse_AF_eval(plddt_file, confidence_file):\n",
    "    if not os.path.exists(plddt_file) or not os.path.exists(confidence_file):\n",
    "        print(f\"File not found: {plddt_file} or {confidence_file}\")\n",
    "        return\n",
    "    with open(plddt_file, 'r') as f:\n",
    "        pdb_plddt_dict = json.load(f)\n",
    "    with open(confidence_file, 'r') as f:\n",
    "        pdb_confidence_dict = json.load(f)\n",
    "    \n",
    "    eval_dict = {\n",
    "        'mean_plddt': np.mean(pdb_plddt_dict['atom_plddts']),\n",
    "        'All_mean_pae': np.mean(pdb_plddt_dict['pae']),\n",
    "        'iptm': pdb_confidence_dict['iptm'],\n",
    "        'ptm': pdb_confidence_dict['ptm']\n",
    "    }\n",
    "    return eval_dict"
   ]
  },
  {
   "cell_type": "code",
   "execution_count": 12,
   "metadata": {},
   "outputs": [
    {
     "name": "stdout",
     "output_type": "stream",
     "text": [
      "{(1, 0): {'mean_plddt': 76.62606447280054, 'All_mean_pae': 10.887116370808679, 'iptm': 0.32, 'ptm': 0.57}, (1, 1): {'mean_plddt': 77.47076561450638, 'All_mean_pae': 10.574756081525313, 'iptm': 0.32, 'ptm': 0.58}, (1, 2): {'mean_plddt': 76.35648757555406, 'All_mean_pae': 11.058624589086126, 'iptm': 0.31, 'ptm': 0.56}, (1, 3): {'mean_plddt': 76.36276695768973, 'All_mean_pae': 11.107392504930967, 'iptm': 0.3, 'ptm': 0.56}, (1, 4): {'mean_plddt': 77.06720617864339, 'All_mean_pae': 10.905051939513479, 'iptm': 0.29, 'ptm': 0.57}, (2, 0): {'mean_plddt': 81.84419073203492, 'All_mean_pae': 7.005677843523998, 'iptm': 0.73, 'ptm': 0.8}, (2, 1): {'mean_plddt': 80.87838817998657, 'All_mean_pae': 7.653659434582512, 'iptm': 0.69, 'ptm': 0.77}, (2, 2): {'mean_plddt': 80.37238415043653, 'All_mean_pae': 7.846301117685733, 'iptm': 0.69, 'ptm': 0.77}, (2, 3): {'mean_plddt': 80.62885157824043, 'All_mean_pae': 7.611926364234057, 'iptm': 0.69, 'ptm': 0.78}, (2, 4): {'mean_plddt': 79.43284754869039, 'All_mean_pae': 8.353207100591717, 'iptm': 0.67, 'ptm': 0.75}, (3, 0): {'mean_plddt': 75.91761584956346, 'All_mean_pae': 11.044862590401051, 'iptm': 0.3, 'ptm': 0.57}, (3, 1): {'mean_plddt': 75.13206178643385, 'All_mean_pae': 11.582874424720579, 'iptm': 0.28, 'ptm': 0.55}, (3, 2): {'mean_plddt': 75.20630624580255, 'All_mean_pae': 11.619597633136095, 'iptm': 0.27, 'ptm': 0.55}, (3, 3): {'mean_plddt': 73.95770987239759, 'All_mean_pae': 11.997112426035503, 'iptm': 0.26, 'ptm': 0.56}, (3, 4): {'mean_plddt': 74.67983881799866, 'All_mean_pae': 11.986364234056543, 'iptm': 0.23, 'ptm': 0.54}, (4, 0): {'mean_plddt': 81.51801880456682, 'All_mean_pae': 7.083550295857989, 'iptm': 0.75, 'ptm': 0.81}, (4, 1): {'mean_plddt': 81.54314976494291, 'All_mean_pae': 6.9216015779092706, 'iptm': 0.74, 'ptm': 0.81}, (4, 2): {'mean_plddt': 81.33987239758227, 'All_mean_pae': 7.544649572649572, 'iptm': 0.71, 'ptm': 0.79}, (4, 3): {'mean_plddt': 79.86107454667561, 'All_mean_pae': 8.188928336620645, 'iptm': 0.7, 'ptm': 0.77}, (4, 4): {'mean_plddt': 80.49197447951644, 'All_mean_pae': 7.444757396449705, 'iptm': 0.69, 'ptm': 0.78}, (5, 0): {'mean_plddt': 80.67017461383479, 'All_mean_pae': 7.91493228139382, 'iptm': 0.69, 'ptm': 0.78}, (5, 1): {'mean_plddt': 80.13618535930155, 'All_mean_pae': 7.934080210387902, 'iptm': 0.68, 'ptm': 0.77}, (5, 2): {'mean_plddt': 80.90695097380792, 'All_mean_pae': 7.806656147271531, 'iptm': 0.69, 'ptm': 0.78}, (5, 3): {'mean_plddt': 79.86036937541974, 'All_mean_pae': 7.87335174227482, 'iptm': 0.68, 'ptm': 0.77}, (5, 4): {'mean_plddt': 79.88557421087978, 'All_mean_pae': 8.14403681788297, 'iptm': 0.67, 'ptm': 0.76}, (6, 0): {'mean_plddt': 80.27075889858966, 'All_mean_pae': 7.8053122945430635, 'iptm': 0.69, 'ptm': 0.78}, (6, 1): {'mean_plddt': 80.08165211551376, 'All_mean_pae': 8.003734385272846, 'iptm': 0.68, 'ptm': 0.77}, (6, 2): {'mean_plddt': 79.59796507723304, 'All_mean_pae': 8.095689677843524, 'iptm': 0.69, 'ptm': 0.77}, (6, 3): {'mean_plddt': 80.22656816655473, 'All_mean_pae': 7.885556870479947, 'iptm': 0.68, 'ptm': 0.77}, (6, 4): {'mean_plddt': 78.52792478173271, 'All_mean_pae': 8.524978303747535, 'iptm': 0.64, 'ptm': 0.74}, (7, 0): {'mean_plddt': 77.64046339825386, 'All_mean_pae': 11.034046022353714, 'iptm': 0.27, 'ptm': 0.56}, (7, 1): {'mean_plddt': 77.91526527871055, 'All_mean_pae': 11.006059171597634, 'iptm': 0.27, 'ptm': 0.56}, (7, 2): {'mean_plddt': 77.27566151779719, 'All_mean_pae': 11.431936883629191, 'iptm': 0.24, 'ptm': 0.55}, (7, 3): {'mean_plddt': 77.00474143720618, 'All_mean_pae': 11.494984878369493, 'iptm': 0.23, 'ptm': 0.53}, (7, 4): {'mean_plddt': 77.6860241773002, 'All_mean_pae': 11.380165680473372, 'iptm': 0.23, 'ptm': 0.54}, (8, 0): {'mean_plddt': 75.46650772330423, 'All_mean_pae': 10.776286653517422, 'iptm': 0.33, 'ptm': 0.58}, (8, 1): {'mean_plddt': 77.12144392209537, 'All_mean_pae': 10.48612754766601, 'iptm': 0.32, 'ptm': 0.59}, (8, 2): {'mean_plddt': 75.40026192075219, 'All_mean_pae': 11.019900065746219, 'iptm': 0.3, 'ptm': 0.56}, (8, 3): {'mean_plddt': 75.3311887172599, 'All_mean_pae': 11.023889546351086, 'iptm': 0.31, 'ptm': 0.57}, (8, 4): {'mean_plddt': 75.28731363331094, 'All_mean_pae': 11.175584483892177, 'iptm': 0.28, 'ptm': 0.56}, (9, 0): {'mean_plddt': 75.5399395567495, 'All_mean_pae': 10.913851413543721, 'iptm': 0.32, 'ptm': 0.58}, (9, 1): {'mean_plddt': 76.04287441235728, 'All_mean_pae': 11.163463510848125, 'iptm': 0.3, 'ptm': 0.56}, (9, 2): {'mean_plddt': 75.45219610476829, 'All_mean_pae': 11.258169625246548, 'iptm': 0.3, 'ptm': 0.56}, (9, 3): {'mean_plddt': 75.05174613834788, 'All_mean_pae': 11.23079815910585, 'iptm': 0.29, 'ptm': 0.57}, (9, 4): {'mean_plddt': 75.64017461383479, 'All_mean_pae': 11.499879026955949, 'iptm': 0.27, 'ptm': 0.56}, (10, 0): {'mean_plddt': 77.8920483546004, 'All_mean_pae': 10.631905325443789, 'iptm': 0.32, 'ptm': 0.58}, (10, 1): {'mean_plddt': 78.62472800537273, 'All_mean_pae': 10.31074819197896, 'iptm': 0.32, 'ptm': 0.59}, (10, 2): {'mean_plddt': 78.48196104768301, 'All_mean_pae': 10.736896778435241, 'iptm': 0.29, 'ptm': 0.57}, (10, 3): {'mean_plddt': 78.63263263935528, 'All_mean_pae': 10.502716633793558, 'iptm': 0.3, 'ptm': 0.57}, (10, 4): {'mean_plddt': 78.30359973136333, 'All_mean_pae': 10.68657725180802, 'iptm': 0.29, 'ptm': 0.57}}\n"
     ]
    }
   ],
   "source": [
    "AF_struct_dir = '/home/lwang/models/HDX_LSTM/data/COVID_SPIKE/AF_VH16_VL106'\n",
    "seeds = range(1, 11)\n",
    "protien_name = 'vh16_vl106'\n",
    "model_evals = {}\n",
    "\n",
    "for i in seeds:\n",
    "    for j in range(0, 5):\n",
    "        pdb_plddt = f'{AF_struct_dir}/{protien_name}_seed{i}/fold_{protien_name}_seed{i}_full_data_{j}.json'\n",
    "        pdb_confidence= f'{AF_struct_dir}/{protien_name}_seed{i}/fold_{protien_name}_seed{i}_summary_confidences_{j}.json'\n",
    "        model_evals[(i,j)]= parse_AF_eval(pdb_plddt, pdb_confidence)\n",
    "print(model_evals)"
   ]
  },
  {
   "cell_type": "code",
   "execution_count": 32,
   "metadata": {},
   "outputs": [
    {
     "data": {
      "text/html": [
       "<div>\n",
       "<style scoped>\n",
       "    .dataframe tbody tr th:only-of-type {\n",
       "        vertical-align: middle;\n",
       "    }\n",
       "\n",
       "    .dataframe tbody tr th {\n",
       "        vertical-align: top;\n",
       "    }\n",
       "\n",
       "    .dataframe thead th {\n",
       "        text-align: right;\n",
       "    }\n",
       "</style>\n",
       "<table border=\"1\" class=\"dataframe\">\n",
       "  <thead>\n",
       "    <tr style=\"text-align: right;\">\n",
       "      <th></th>\n",
       "      <th>level_0</th>\n",
       "      <th>level_1</th>\n",
       "      <th>mean_plddt</th>\n",
       "      <th>All_mean_pae</th>\n",
       "      <th>iptm</th>\n",
       "      <th>ptm</th>\n",
       "    </tr>\n",
       "  </thead>\n",
       "  <tbody>\n",
       "    <tr>\n",
       "      <th>5</th>\n",
       "      <td>2</td>\n",
       "      <td>0</td>\n",
       "      <td>81.844191</td>\n",
       "      <td>7.005678</td>\n",
       "      <td>0.73</td>\n",
       "      <td>0.80</td>\n",
       "    </tr>\n",
       "    <tr>\n",
       "      <th>16</th>\n",
       "      <td>4</td>\n",
       "      <td>1</td>\n",
       "      <td>81.543150</td>\n",
       "      <td>6.921602</td>\n",
       "      <td>0.74</td>\n",
       "      <td>0.81</td>\n",
       "    </tr>\n",
       "    <tr>\n",
       "      <th>15</th>\n",
       "      <td>4</td>\n",
       "      <td>0</td>\n",
       "      <td>81.518019</td>\n",
       "      <td>7.083550</td>\n",
       "      <td>0.75</td>\n",
       "      <td>0.81</td>\n",
       "    </tr>\n",
       "    <tr>\n",
       "      <th>17</th>\n",
       "      <td>4</td>\n",
       "      <td>2</td>\n",
       "      <td>81.339872</td>\n",
       "      <td>7.544650</td>\n",
       "      <td>0.71</td>\n",
       "      <td>0.79</td>\n",
       "    </tr>\n",
       "    <tr>\n",
       "      <th>22</th>\n",
       "      <td>5</td>\n",
       "      <td>2</td>\n",
       "      <td>80.906951</td>\n",
       "      <td>7.806656</td>\n",
       "      <td>0.69</td>\n",
       "      <td>0.78</td>\n",
       "    </tr>\n",
       "    <tr>\n",
       "      <th>6</th>\n",
       "      <td>2</td>\n",
       "      <td>1</td>\n",
       "      <td>80.878388</td>\n",
       "      <td>7.653659</td>\n",
       "      <td>0.69</td>\n",
       "      <td>0.77</td>\n",
       "    </tr>\n",
       "    <tr>\n",
       "      <th>20</th>\n",
       "      <td>5</td>\n",
       "      <td>0</td>\n",
       "      <td>80.670175</td>\n",
       "      <td>7.914932</td>\n",
       "      <td>0.69</td>\n",
       "      <td>0.78</td>\n",
       "    </tr>\n",
       "    <tr>\n",
       "      <th>8</th>\n",
       "      <td>2</td>\n",
       "      <td>3</td>\n",
       "      <td>80.628852</td>\n",
       "      <td>7.611926</td>\n",
       "      <td>0.69</td>\n",
       "      <td>0.78</td>\n",
       "    </tr>\n",
       "    <tr>\n",
       "      <th>19</th>\n",
       "      <td>4</td>\n",
       "      <td>4</td>\n",
       "      <td>80.491974</td>\n",
       "      <td>7.444757</td>\n",
       "      <td>0.69</td>\n",
       "      <td>0.78</td>\n",
       "    </tr>\n",
       "    <tr>\n",
       "      <th>7</th>\n",
       "      <td>2</td>\n",
       "      <td>2</td>\n",
       "      <td>80.372384</td>\n",
       "      <td>7.846301</td>\n",
       "      <td>0.69</td>\n",
       "      <td>0.77</td>\n",
       "    </tr>\n",
       "  </tbody>\n",
       "</table>\n",
       "</div>"
      ],
      "text/plain": [
       "    level_0  level_1  mean_plddt  All_mean_pae  iptm   ptm\n",
       "5         2        0   81.844191      7.005678  0.73  0.80\n",
       "16        4        1   81.543150      6.921602  0.74  0.81\n",
       "15        4        0   81.518019      7.083550  0.75  0.81\n",
       "17        4        2   81.339872      7.544650  0.71  0.79\n",
       "22        5        2   80.906951      7.806656  0.69  0.78\n",
       "6         2        1   80.878388      7.653659  0.69  0.77\n",
       "20        5        0   80.670175      7.914932  0.69  0.78\n",
       "8         2        3   80.628852      7.611926  0.69  0.78\n",
       "19        4        4   80.491974      7.444757  0.69  0.78\n",
       "7         2        2   80.372384      7.846301  0.69  0.77"
      ]
     },
     "metadata": {},
     "output_type": "display_data"
    }
   ],
   "source": [
    "model_evals_df = pd.DataFrame(model_evals).T\n",
    "model_evals_df = model_evals_df.reset_index()\n",
    "display(model_evals_df.sort_values('mean_plddt', ascending=False)[:10])\n",
    "\n",
    "top_5_rows = model_evals_df.sort_values('mean_plddt', ascending=False).head(5)\n",
    "ij_pair = list(top_5_rows[['level_0', 'level_1']].itertuples(index=False, name=None))\n",
    "select_models = [f'{AF_struct_dir}/{protien_name}_seed{i}/fold_{protien_name}_seed{i}_model_{j}.cif' for i,j in ij_pair]"
   ]
  },
  {
   "cell_type": "code",
   "execution_count": 35,
   "metadata": {},
   "outputs": [],
   "source": [
    "import shutil\n",
    "from Bio.PDB import MMCIFParser, PDBIO\n",
    "\n",
    "output_dir = '/home/lwang/models/HDX_LSTM/data/COVID_SPIKE/structure'\n",
    "for model in select_models:\n",
    "    parser = MMCIFParser(QUIET=True)\n",
    "    structure = parser.get_structure('model', model)\n",
    "    pdb_filename = os.path.join(output_dir, os.path.basename(model).replace('.cif', '.pdb'))\n",
    "    io = PDBIO()\n",
    "    io.set_structure(structure)\n",
    "    io.save(pdb_filename)"
   ]
  },
  {
   "cell_type": "markdown",
   "metadata": {},
   "source": [
    "### cluster AF models based on RMSD ###"
   ]
  },
  {
   "cell_type": "code",
   "execution_count": 20,
   "metadata": {},
   "outputs": [],
   "source": [
    "from Bio.PDB import PDBParser, MMCIFParser\n",
    "import numpy as np\n",
    "\n",
    "def extract_chain_coordinates(structure_file, chain_id, atom_name=[\"CA\"]):\n",
    "    \"\"\"\n",
    "    Extracts the coordinates of specified atoms in specified chains from a PDB or mmCIF file.\n",
    "    \n",
    "    :param structure_file: Path to the PDB or mmCIF file\n",
    "    :param chain_id: List of chain IDs to extract (or a single chain ID as a string)\n",
    "    :param atom_name: List of atom names to filter (e.g., [\"CA\", \"CB\"]). Defaults to [\"CA\"].\n",
    "    :return: A NumPy array of shape (n_atoms, 3) containing the atomic coordinates\n",
    "    \"\"\"\n",
    "    # Determine parser based on file extension\n",
    "    if structure_file.endswith('.pdb'):\n",
    "        parser = PDBParser(QUIET=True)\n",
    "    elif structure_file.endswith('.cif') or structure_file.endswith('.mmcif'):\n",
    "        parser = MMCIFParser(QUIET=True)\n",
    "    else:\n",
    "        raise ValueError(\"Unsupported file format. Please provide a .pdb or .cif/.mmcif file.\")\n",
    "    \n",
    "    structure = parser.get_structure('structure', structure_file)\n",
    "    \n",
    "    # Ensure chain_id and atom_name are lists\n",
    "    if isinstance(chain_id, str):\n",
    "        chain_id = [chain_id]\n",
    "    if isinstance(atom_name, str):\n",
    "        atom_name = [atom_name]\n",
    "\n",
    "    # Extract coordinates with chain and atom filters\n",
    "    coordinates = []\n",
    "    for id in chain_id:\n",
    "        chain = structure[0][id]\n",
    "        for atom in chain.get_atoms():\n",
    "            if atom.get_name() in atom_name:\n",
    "                coordinates.append(atom.coord)\n",
    "    \n",
    "    return np.array(coordinates)\n",
    "\n",
    "def calculate_RMSD(coord1, coord2):\n",
    "    \"\"\"\n",
    "    Calculates the root-mean-square deviation (RMSD) between two sets of atomic coordinates.\n",
    "    \n",
    "    :param coord1: NumPy array of shape (n_atoms, 3) containing the first set of atomic coordinates\n",
    "    :param coord2: NumPy array of shape (n_atoms, 3) containing the second set of atomic coordinates\n",
    "    :return: The RMSD between the two coordinate sets\n",
    "    \"\"\"\n",
    "    # Check if the number of atoms is the same in both coordinate sets\n",
    "    if coord1.shape[0] != coord2.shape[0]:\n",
    "        raise ValueError(\"The number of atoms in the two coordinate sets is different.\")\n",
    "    \n",
    "    # Calculate the RMSD\n",
    "    diff = coord1 - coord2\n",
    "    rmsd = np.sqrt(np.mean(np.sum(diff**2, axis=1)))\n",
    "    \n",
    "    return rmsd"
   ]
  },
  {
   "cell_type": "code",
   "execution_count": 24,
   "metadata": {},
   "outputs": [
    {
     "name": "stdout",
     "output_type": "stream",
     "text": [
      "{(1, 0, 1): 27.454308, (1, 0, 2): 23.082153, (1, 0, 3): 20.98222, (1, 0, 4): 22.817755, (1, 1, 2): 27.783411, (1, 1, 3): 28.234781, (1, 1, 4): 28.79486, (1, 2, 3): 10.040766, (1, 2, 4): 14.338803, (1, 3, 4): 16.893402, (2, 0, 1): 28.479342, (2, 0, 2): 27.088152, (2, 0, 3): 21.378466, (2, 0, 4): 24.406746, (2, 1, 2): 12.121987, (2, 1, 3): 19.387264, (2, 1, 4): 23.792034, (2, 2, 3): 14.864815, (2, 2, 4): 20.279856, (2, 3, 4): 27.091763, (3, 0, 1): 15.288367, (3, 0, 2): 28.163675, (3, 0, 3): 24.094091, (3, 0, 4): 23.007807, (3, 1, 2): 23.993904, (3, 1, 3): 28.047935, (3, 1, 4): 22.999348, (3, 2, 3): 23.56113, (3, 2, 4): 26.504272, (3, 3, 4): 27.112698, (4, 0, 1): 24.134193, (4, 0, 2): 26.506433, (4, 0, 3): 24.022974, (4, 0, 4): 26.956429, (4, 1, 2): 23.725182, (4, 1, 3): 25.331045, (4, 1, 4): 21.758139, (4, 2, 3): 27.843176, (4, 2, 4): 20.373838, (4, 3, 4): 27.216896, (5, 0, 1): 21.154747, (5, 0, 2): 25.772144, (5, 0, 3): 23.021336, (5, 0, 4): 24.64439, (5, 1, 2): 19.861696, (5, 1, 3): 6.0562477, (5, 1, 4): 12.303064, (5, 2, 3): 20.05334, (5, 2, 4): 12.247402, (5, 3, 4): 12.302919, (6, 0, 1): 23.76133, (6, 0, 2): 20.342253, (6, 0, 3): 19.941547, (6, 0, 4): 24.104965, (6, 1, 2): 19.97223, (6, 1, 3): 17.502365, (6, 1, 4): 28.870396, (6, 2, 3): 9.229675, (6, 2, 4): 23.33893, (6, 3, 4): 24.93113, (7, 0, 1): 27.17628, (7, 0, 2): 14.3912735, (7, 0, 3): 13.189764, (7, 0, 4): 18.276287, (7, 1, 2): 26.275759, (7, 1, 3): 22.97478, (7, 1, 4): 26.54539, (7, 2, 3): 22.610273, (7, 2, 4): 20.125525, (7, 3, 4): 20.131697, (8, 0, 1): 25.893772, (8, 0, 2): 3.9918795, (8, 0, 3): 18.725378, (8, 0, 4): 16.305374, (8, 1, 2): 26.04492, (8, 1, 3): 19.769613, (8, 1, 4): 20.605036, (8, 2, 3): 19.496235, (8, 2, 4): 18.571379, (8, 3, 4): 17.663082, (9, 0, 1): 21.674946, (9, 0, 2): 8.930804, (9, 0, 3): 27.561941, (9, 0, 4): 26.641056, (9, 1, 2): 22.945868, (9, 1, 3): 25.610935, (9, 1, 4): 19.56555, (9, 2, 3): 25.647797, (9, 2, 4): 25.98786, (9, 3, 4): 23.723925, (10, 0, 1): 26.81952, (10, 0, 2): 23.112495, (10, 0, 3): 18.52017, (10, 0, 4): 20.198135, (10, 1, 2): 27.711092, (10, 1, 3): 20.279945, (10, 1, 4): 18.26405, (10, 2, 3): 24.16018, (10, 2, 4): 24.716465, (10, 3, 4): 4.648891}\n"
     ]
    }
   ],
   "source": [
    "RMSD_dict = {}\n",
    "chain_ids = ['A', 'B']\n",
    "for i in seeds:\n",
    "    for j in range(0, 4):\n",
    "        ref_coord = extract_chain_coordinates(f'{AF_struct_dir}/{protien_name}_seed{i}/fold_{protien_name}_seed{i}_model_{j}.cif', chain_ids)\n",
    "        for k in range(j+1, 5):\n",
    "            compare_coord = extract_chain_coordinates(f'{AF_struct_dir}/{protien_name}_seed{i}/fold_{protien_name}_seed{i}_model_{k}.cif', chain_ids)\n",
    "            RMSD_dict[(i,j,k)] = calculate_RMSD(ref_coord, compare_coord)\n",
    "print(RMSD_dict)\n"
   ]
  },
  {
   "cell_type": "code",
   "execution_count": 28,
   "metadata": {},
   "outputs": [
    {
     "name": "stdout",
     "output_type": "stream",
     "text": [
      "50\n"
     ]
    },
    {
     "data": {
      "text/plain": [
       "\"for i in seeds:\\n    for j in range(0, 4):\\n        native = load_PDB(f'{AF_struct_dir}/{protien_name}_seed{i}/fold_{protien_name}_seed{i}_model_{j}.cif')\\n        for k in range(j+1, 5):\\n            model = load_PDB(f'{AF_struct_dir}/{protien_name}_seed{i}/fold_{protien_name}_seed{i}_model_{k}.cif')\\n            result = run_on_all_native_interfaces(model, native, chain_map=mapping)\\n            RMSD_dict[(i,j,k)] = result[0].get('Lrms', np.nan)\\n            break\""
      ]
     },
     "execution_count": 28,
     "metadata": {},
     "output_type": "execute_result"
    }
   ],
   "source": [
    "from DockQ.DockQ import load_PDB, run_on_all_native_interfaces\n",
    "mapping = {\"A\": \"A\", \"B\": \"B\"}\n",
    "pdb_files = [f'{AF_struct_dir}/{protien_name}_seed{i}/fold_{protien_name}_seed{i}_model_{j}.cif' for i in seeds for j in range(0, 5)]\n",
    "print(len(pdb_files))\n",
    "\n",
    "for i in range(0, len(pdb_files)):\n",
    "    for j in range(i+1, len(pdb_files)):\n",
    "        pdb1 = load_PDB(pdb_files[i])\n",
    "        pdb2 = load_PDB(pdb_files[j])\n",
    "        result = run_on_all_native_interfaces(pdb1, pdb2, chain_map=mapping)\n",
    "        print(result)\n",
    "        break\n",
    "'''for i in seeds:\n",
    "    for j in range(0, 4):\n",
    "        native = load_PDB(f'{AF_struct_dir}/{protien_name}_seed{i}/fold_{protien_name}_seed{i}_model_{j}.cif')\n",
    "        for k in range(j+1, 5):\n",
    "            model = load_PDB(f'{AF_struct_dir}/{protien_name}_seed{i}/fold_{protien_name}_seed{i}_model_{k}.cif')\n",
    "            result = run_on_all_native_interfaces(model, native, chain_map=mapping)\n",
    "            RMSD_dict[(i,j,k)] = result[0].get('Lrms', np.nan)\n",
    "            break'''"
   ]
  },
  {
   "cell_type": "markdown",
   "metadata": {},
   "source": [
    "### HDOCK: rigid body global docking ###"
   ]
  },
  {
   "cell_type": "code",
   "execution_count": 40,
   "metadata": {},
   "outputs": [],
   "source": [
    "import subprocess\n",
    "\n",
    "def run_HDOCK(hdock_path, receptor, ligand, out_file):\n",
    "    command = f\"{hdock_path} {receptor} {ligand} -out {out_file}\"\n",
    "    subprocess.run(command, shell=True)"
   ]
  },
  {
   "cell_type": "code",
   "execution_count": null,
   "metadata": {},
   "outputs": [],
   "source": [
    "import os\n",
    "os.chdir('/home/lwang/models/HDOCKlite-v1.1')\n",
    "protien_name = 'vh16_vl106'\n",
    "pdb_dir = f'./pdb'\n",
    "os.mkdir('./output') if not os.path.exists('./output') else None\n",
    "\n",
    "receptors = ['Wuhan_spike_clean.pdb', 'Omicron_spike_clean.pdb', 'Delta_spike_clean.pdb']\n",
    "ligands = [file for file in os.listdir(f\"./pdb\") if file.startswith(f\"fold_{protien_name}\")]\n",
    "\n",
    "for receptor in receptors:\n",
    "    for ligand in ligands:\n",
    "        out_file = f'./output/{receptor.split(\"_\")[0]}_{ligand.split(\".\")[0]}.out'\n",
    "        run_HDOCK('./hdock', f'{pdb_dir}/{receptor}', f'{pdb_dir}/{ligand}', out_file)\n"
   ]
  }
 ],
 "metadata": {
  "kernelspec": {
   "display_name": "py3.9",
   "language": "python",
   "name": "python3"
  },
  "language_info": {
   "codemirror_mode": {
    "name": "ipython",
    "version": 3
   },
   "file_extension": ".py",
   "mimetype": "text/x-python",
   "name": "python",
   "nbconvert_exporter": "python",
   "pygments_lexer": "ipython3",
   "version": "3.9.19"
  }
 },
 "nbformat": 4,
 "nbformat_minor": 2
}
